{
 "cells": [
  {
   "cell_type": "code",
   "execution_count": 1,
   "id": "b294a766",
   "metadata": {},
   "outputs": [],
   "source": [
    "import torch"
   ]
  },
  {
   "cell_type": "markdown",
   "id": "deebedc0",
   "metadata": {},
   "source": [
    "# 2.3.1. Scalars"
   ]
  },
  {
   "cell_type": "code",
   "execution_count": 2,
   "id": "efa83731",
   "metadata": {},
   "outputs": [
    {
     "data": {
      "text/plain": [
       "(tensor(5.), tensor(6.), tensor(1.5000), tensor(9.))"
      ]
     },
     "execution_count": 2,
     "metadata": {},
     "output_type": "execute_result"
    }
   ],
   "source": [
    "x = torch.tensor(3.0)\n",
    "y = torch.tensor(2.0)\n",
    "x + y, x * y, x / y, x**y"
   ]
  },
  {
   "cell_type": "markdown",
   "id": "a6f2d6e1",
   "metadata": {},
   "source": [
    "# 2.3.2. Vectors"
   ]
  },
  {
   "cell_type": "code",
   "execution_count": 3,
   "id": "33644048",
   "metadata": {},
   "outputs": [
    {
     "data": {
      "text/plain": [
       "tensor([0, 1, 2])"
      ]
     },
     "execution_count": 3,
     "metadata": {},
     "output_type": "execute_result"
    }
   ],
   "source": [
    "x = torch.arange(3)\n",
    "x"
   ]
  },
  {
   "cell_type": "code",
   "execution_count": 4,
   "id": "e541b66c",
   "metadata": {},
   "outputs": [
    {
     "data": {
      "text/plain": [
       "tensor(2)"
      ]
     },
     "execution_count": 4,
     "metadata": {},
     "output_type": "execute_result"
    }
   ],
   "source": [
    "x[2]"
   ]
  },
  {
   "cell_type": "code",
   "execution_count": 5,
   "id": "61dd2c58",
   "metadata": {},
   "outputs": [
    {
     "data": {
      "text/plain": [
       "3"
      ]
     },
     "execution_count": 5,
     "metadata": {},
     "output_type": "execute_result"
    }
   ],
   "source": [
    "len(x)"
   ]
  },
  {
   "cell_type": "code",
   "execution_count": 6,
   "id": "e238908b",
   "metadata": {},
   "outputs": [
    {
     "data": {
      "text/plain": [
       "torch.Size([3])"
      ]
     },
     "execution_count": 6,
     "metadata": {},
     "output_type": "execute_result"
    }
   ],
   "source": [
    "x.shape"
   ]
  },
  {
   "cell_type": "markdown",
   "id": "64b62046",
   "metadata": {},
   "source": [
    "# 2.3.3. Matrices"
   ]
  },
  {
   "cell_type": "code",
   "execution_count": 7,
   "id": "303cdc09",
   "metadata": {},
   "outputs": [
    {
     "data": {
      "text/plain": [
       "tensor([0, 1, 2, 3, 4, 5])"
      ]
     },
     "execution_count": 7,
     "metadata": {},
     "output_type": "execute_result"
    }
   ],
   "source": [
    "A = torch.arange(6)\n",
    "A"
   ]
  },
  {
   "cell_type": "code",
   "execution_count": 8,
   "id": "77095b04",
   "metadata": {},
   "outputs": [
    {
     "data": {
      "text/plain": [
       "tensor([[0],\n",
       "        [1],\n",
       "        [2],\n",
       "        [3],\n",
       "        [4],\n",
       "        [5]])"
      ]
     },
     "execution_count": 8,
     "metadata": {},
     "output_type": "execute_result"
    }
   ],
   "source": [
    "A.reshape(6, 1)"
   ]
  },
  {
   "cell_type": "code",
   "execution_count": 9,
   "id": "e023edc4",
   "metadata": {},
   "outputs": [
    {
     "data": {
      "text/plain": [
       "tensor([[0, 1, 2, 3, 4, 5]])"
      ]
     },
     "execution_count": 9,
     "metadata": {},
     "output_type": "execute_result"
    }
   ],
   "source": [
    "A.reshape(1, 6)"
   ]
  },
  {
   "cell_type": "code",
   "execution_count": 10,
   "id": "95b0eaeb",
   "metadata": {},
   "outputs": [
    {
     "data": {
      "text/plain": [
       "tensor([[0, 1],\n",
       "        [2, 3],\n",
       "        [4, 5]])"
      ]
     },
     "execution_count": 10,
     "metadata": {},
     "output_type": "execute_result"
    }
   ],
   "source": [
    "A = A.reshape(3, 2)\n",
    "A"
   ]
  },
  {
   "cell_type": "code",
   "execution_count": 11,
   "id": "22723454",
   "metadata": {},
   "outputs": [
    {
     "data": {
      "text/plain": [
       "tensor([[0, 2, 4],\n",
       "        [1, 3, 5]])"
      ]
     },
     "execution_count": 11,
     "metadata": {},
     "output_type": "execute_result"
    }
   ],
   "source": [
    "A.T"
   ]
  },
  {
   "cell_type": "code",
   "execution_count": 12,
   "id": "86ba1be0",
   "metadata": {},
   "outputs": [
    {
     "data": {
      "text/plain": [
       "tensor([[True, True, True],\n",
       "        [True, True, True],\n",
       "        [True, True, True]])"
      ]
     },
     "execution_count": 12,
     "metadata": {},
     "output_type": "execute_result"
    }
   ],
   "source": [
    "A = torch.tensor([[1, 2, 3], [2, 0, 4], [3, 4, 5]])\n",
    "A == A.T"
   ]
  },
  {
   "cell_type": "markdown",
   "id": "46e3c0ac",
   "metadata": {},
   "source": [
    "# 2.3.4. Tensors"
   ]
  },
  {
   "cell_type": "code",
   "execution_count": 13,
   "id": "34e6640f",
   "metadata": {},
   "outputs": [
    {
     "data": {
      "text/plain": [
       "tensor([[[ 0,  1,  2,  3],\n",
       "         [ 4,  5,  6,  7],\n",
       "         [ 8,  9, 10, 11]],\n",
       "\n",
       "        [[12, 13, 14, 15],\n",
       "         [16, 17, 18, 19],\n",
       "         [20, 21, 22, 23]]])"
      ]
     },
     "execution_count": 13,
     "metadata": {},
     "output_type": "execute_result"
    }
   ],
   "source": [
    "torch.arange(24).reshape(2, 3, 4)"
   ]
  },
  {
   "cell_type": "markdown",
   "id": "7bf6bc22",
   "metadata": {},
   "source": [
    "# 2.3.5. Basic Properties of Tensor Arithmetic"
   ]
  },
  {
   "cell_type": "code",
   "execution_count": 14,
   "id": "a6a59324",
   "metadata": {},
   "outputs": [
    {
     "data": {
      "text/plain": [
       "(tensor([[0., 1., 2.],\n",
       "         [3., 4., 5.]]),\n",
       " tensor([[ 0.,  2.,  4.],\n",
       "         [ 6.,  8., 10.]]))"
      ]
     },
     "execution_count": 14,
     "metadata": {},
     "output_type": "execute_result"
    }
   ],
   "source": [
    "A = torch.arange(6, dtype=torch.float32).reshape(2, 3)\n",
    "B = A.clone()  # Assign a copy of A to B by allocating new memory\n",
    "A, A + B"
   ]
  },
  {
   "cell_type": "code",
   "execution_count": 15,
   "id": "777a1134",
   "metadata": {},
   "outputs": [
    {
     "data": {
      "text/plain": [
       "tensor([[ 0.,  1.,  4.],\n",
       "        [ 9., 16., 25.]])"
      ]
     },
     "execution_count": 15,
     "metadata": {},
     "output_type": "execute_result"
    }
   ],
   "source": [
    "A * B"
   ]
  },
  {
   "cell_type": "code",
   "execution_count": 16,
   "id": "0aa17ec2",
   "metadata": {},
   "outputs": [
    {
     "data": {
      "text/plain": [
       "(tensor([[[ 2,  3,  4,  5],\n",
       "          [ 6,  7,  8,  9],\n",
       "          [10, 11, 12, 13]],\n",
       " \n",
       "         [[14, 15, 16, 17],\n",
       "          [18, 19, 20, 21],\n",
       "          [22, 23, 24, 25]]]),\n",
       " torch.Size([2, 3, 4]))"
      ]
     },
     "execution_count": 16,
     "metadata": {},
     "output_type": "execute_result"
    }
   ],
   "source": [
    "a = 2\n",
    "X = torch.arange(24).reshape(2, 3, 4)\n",
    "a + X, (a * X).shape"
   ]
  },
  {
   "cell_type": "markdown",
   "id": "ce07f467",
   "metadata": {},
   "source": [
    "# 2.3.6. Reduction"
   ]
  },
  {
   "cell_type": "code",
   "execution_count": 17,
   "id": "7bb1aae8",
   "metadata": {},
   "outputs": [
    {
     "data": {
      "text/plain": [
       "(tensor([0., 1., 2.]), tensor(3.))"
      ]
     },
     "execution_count": 17,
     "metadata": {},
     "output_type": "execute_result"
    }
   ],
   "source": [
    "x = torch.arange(3, dtype=torch.float32)\n",
    "x, x.sum()"
   ]
  },
  {
   "cell_type": "code",
   "execution_count": 19,
   "id": "a9b7b0ce",
   "metadata": {},
   "outputs": [
    {
     "data": {
      "text/plain": [
       "(torch.Size([2, 3]), tensor(15.))"
      ]
     },
     "execution_count": 19,
     "metadata": {},
     "output_type": "execute_result"
    }
   ],
   "source": [
    "A.shape, A.sum()"
   ]
  },
  {
   "cell_type": "code",
   "execution_count": 22,
   "id": "327bc6a5",
   "metadata": {},
   "outputs": [
    {
     "data": {
      "text/plain": [
       "(torch.Size([2, 3]), torch.Size([3]))"
      ]
     },
     "execution_count": 22,
     "metadata": {},
     "output_type": "execute_result"
    }
   ],
   "source": [
    "A.shape, A.sum(axis=0).shape"
   ]
  },
  {
   "cell_type": "code",
   "execution_count": null,
   "id": "604cf9c2",
   "metadata": {},
   "outputs": [
    {
     "data": {
      "text/plain": [
       "(torch.Size([2, 3]), torch.Size([2]))"
      ]
     },
     "execution_count": 21,
     "metadata": {},
     "output_type": "execute_result"
    }
   ],
   "source": [
    "A.shape, A.sum(axis=1).shape"
   ]
  },
  {
   "cell_type": "code",
   "execution_count": 23,
   "id": "f9c741a0",
   "metadata": {},
   "outputs": [
    {
     "data": {
      "text/plain": [
       "tensor(True)"
      ]
     },
     "execution_count": 23,
     "metadata": {},
     "output_type": "execute_result"
    }
   ],
   "source": [
    "A.sum(axis=[0, 1]) == A.sum()  # Same as A.sum()"
   ]
  },
  {
   "cell_type": "code",
   "execution_count": 24,
   "id": "d4c547f5",
   "metadata": {},
   "outputs": [
    {
     "data": {
      "text/plain": [
       "(tensor(2.5000), tensor(2.5000))"
      ]
     },
     "execution_count": 24,
     "metadata": {},
     "output_type": "execute_result"
    }
   ],
   "source": [
    "A.mean(), A.sum() / A.numel()"
   ]
  },
  {
   "cell_type": "code",
   "execution_count": 25,
   "id": "fd2f7bfe",
   "metadata": {},
   "outputs": [
    {
     "data": {
      "text/plain": [
       "(tensor([1.5000, 2.5000, 3.5000]), tensor([1.5000, 2.5000, 3.5000]))"
      ]
     },
     "execution_count": 25,
     "metadata": {},
     "output_type": "execute_result"
    }
   ],
   "source": [
    "A.mean(axis=0), A.sum(axis=0) / A.shape[0]"
   ]
  },
  {
   "cell_type": "markdown",
   "id": "f4636726",
   "metadata": {},
   "source": [
    "# 2.3.7. Non-Reduction Sum"
   ]
  },
  {
   "cell_type": "code",
   "execution_count": 26,
   "id": "1722e62e",
   "metadata": {},
   "outputs": [
    {
     "data": {
      "text/plain": [
       "(tensor([[ 3.],\n",
       "         [12.]]),\n",
       " torch.Size([2, 1]))"
      ]
     },
     "execution_count": 26,
     "metadata": {},
     "output_type": "execute_result"
    }
   ],
   "source": [
    "sum_A = A.sum(axis=1, keepdims=True)\n",
    "sum_A, sum_A.shape"
   ]
  },
  {
   "cell_type": "code",
   "execution_count": 27,
   "id": "59c7d8c1",
   "metadata": {},
   "outputs": [
    {
     "data": {
      "text/plain": [
       "tensor([[0.0000, 0.3333, 0.6667],\n",
       "        [0.2500, 0.3333, 0.4167]])"
      ]
     },
     "execution_count": 27,
     "metadata": {},
     "output_type": "execute_result"
    }
   ],
   "source": [
    "A / sum_A"
   ]
  },
  {
   "cell_type": "code",
   "execution_count": 28,
   "id": "b28b9756",
   "metadata": {},
   "outputs": [
    {
     "data": {
      "text/plain": [
       "(tensor([[0., 1., 2.],\n",
       "         [3., 4., 5.]]),\n",
       " tensor([[0., 1., 2.],\n",
       "         [3., 5., 7.]]))"
      ]
     },
     "execution_count": 28,
     "metadata": {},
     "output_type": "execute_result"
    }
   ],
   "source": [
    "A, A.cumsum(axis=0)"
   ]
  },
  {
   "cell_type": "markdown",
   "id": "919368c3",
   "metadata": {},
   "source": [
    "# 2.3.8. Dot Products"
   ]
  },
  {
   "cell_type": "code",
   "execution_count": 29,
   "id": "02d81f3b",
   "metadata": {},
   "outputs": [
    {
     "data": {
      "text/plain": [
       "(tensor([0., 1., 2.]), tensor([1., 1., 1.]), tensor(3.))"
      ]
     },
     "execution_count": 29,
     "metadata": {},
     "output_type": "execute_result"
    }
   ],
   "source": [
    "y = torch.ones(3, dtype=torch.float32)\n",
    "x, y, torch.dot(x, y)"
   ]
  },
  {
   "cell_type": "code",
   "execution_count": 30,
   "id": "f1641cf6",
   "metadata": {},
   "outputs": [
    {
     "data": {
      "text/plain": [
       "tensor(3.)"
      ]
     },
     "execution_count": 30,
     "metadata": {},
     "output_type": "execute_result"
    }
   ],
   "source": [
    "torch.sum(x * y)"
   ]
  },
  {
   "cell_type": "markdown",
   "id": "7585f5d0",
   "metadata": {},
   "source": [
    "# 2.3.9. Matrix-Vector Products"
   ]
  },
  {
   "cell_type": "code",
   "execution_count": 31,
   "id": "8ff17fe9",
   "metadata": {},
   "outputs": [
    {
     "data": {
      "text/plain": [
       "(torch.Size([2, 3]), torch.Size([3]), tensor([ 5., 14.]), tensor([ 5., 14.]))"
      ]
     },
     "execution_count": 31,
     "metadata": {},
     "output_type": "execute_result"
    }
   ],
   "source": [
    "A.shape, x.shape, torch.mv(A, x), A@x"
   ]
  },
  {
   "cell_type": "markdown",
   "id": "52e78a6f",
   "metadata": {},
   "source": [
    "# 2.3.10. Matrix-Matrix Multiplication"
   ]
  },
  {
   "cell_type": "code",
   "execution_count": 32,
   "id": "74c86913",
   "metadata": {},
   "outputs": [
    {
     "data": {
      "text/plain": [
       "(tensor([[ 3.,  3.,  3.,  3.],\n",
       "         [12., 12., 12., 12.]]),\n",
       " tensor([[ 3.,  3.,  3.,  3.],\n",
       "         [12., 12., 12., 12.]]))"
      ]
     },
     "execution_count": 32,
     "metadata": {},
     "output_type": "execute_result"
    }
   ],
   "source": [
    "B = torch.ones(3, 4)\n",
    "torch.mm(A, B), A@B"
   ]
  },
  {
   "cell_type": "markdown",
   "id": "74238ffc",
   "metadata": {},
   "source": [
    "# 2.3.11. Norms"
   ]
  },
  {
   "cell_type": "code",
   "execution_count": 33,
   "id": "a3c4fcc8",
   "metadata": {},
   "outputs": [
    {
     "data": {
      "text/plain": [
       "tensor(5.)"
      ]
     },
     "execution_count": 33,
     "metadata": {},
     "output_type": "execute_result"
    }
   ],
   "source": [
    "u = torch.tensor([3.0, -4.0])\n",
    "torch.norm(u)"
   ]
  },
  {
   "cell_type": "code",
   "execution_count": 34,
   "id": "a2503b86",
   "metadata": {},
   "outputs": [
    {
     "data": {
      "text/plain": [
       "tensor(7.)"
      ]
     },
     "execution_count": 34,
     "metadata": {},
     "output_type": "execute_result"
    }
   ],
   "source": [
    "torch.abs(u).sum()"
   ]
  },
  {
   "cell_type": "code",
   "execution_count": 35,
   "id": "1aff2577",
   "metadata": {},
   "outputs": [
    {
     "data": {
      "text/plain": [
       "tensor(6.)"
      ]
     },
     "execution_count": 35,
     "metadata": {},
     "output_type": "execute_result"
    }
   ],
   "source": [
    "torch.norm(torch.ones((4, 9)))"
   ]
  },
  {
   "cell_type": "markdown",
   "id": "056b9ef6",
   "metadata": {},
   "source": [
    "# 2.3.13. Exercises"
   ]
  },
  {
   "cell_type": "code",
   "execution_count": null,
   "id": "a6b0d455",
   "metadata": {},
   "outputs": [
    {
     "data": {
      "text/plain": [
       "2"
      ]
     },
     "execution_count": 36,
     "metadata": {},
     "output_type": "execute_result"
    }
   ],
   "source": [
    "X = torch.arange(24).reshape(2, 3, 4)\n",
    "len(X)  # Number of elements in the first axis (row)"
   ]
  },
  {
   "cell_type": "code",
   "execution_count": 41,
   "id": "ac01abea",
   "metadata": {},
   "outputs": [
    {
     "data": {
      "text/plain": [
       "tensor([[[ 0,  1,  2,  3],\n",
       "         [ 4,  5,  6,  7],\n",
       "         [ 8,  9, 10, 11]],\n",
       "\n",
       "        [[12, 13, 14, 15],\n",
       "         [16, 17, 18, 19],\n",
       "         [20, 21, 22, 23]]])"
      ]
     },
     "execution_count": 41,
     "metadata": {},
     "output_type": "execute_result"
    }
   ],
   "source": [
    "# 9\n",
    "from scipy import linalg\n",
    "\n",
    "X = torch.arange(24).reshape(2, 3, 4)\n",
    "X\n"
   ]
  },
  {
   "cell_type": "code",
   "execution_count": 42,
   "id": "37c89d32",
   "metadata": {},
   "outputs": [
    {
     "data": {
      "text/plain": [
       "array([[12.        , 13.03840481, 14.14213562, 15.29705854],\n",
       "       [16.4924225 , 17.72004515, 18.97366596, 20.24845673],\n",
       "       [21.54065923, 22.84731932, 24.16609195, 25.49509757]])"
      ]
     },
     "execution_count": 42,
     "metadata": {},
     "output_type": "execute_result"
    }
   ],
   "source": [
    "linalg.norm(X, axis=0)  # Compute the norm along the first axis"
   ]
  },
  {
   "cell_type": "code",
   "execution_count": 43,
   "id": "4a09eeca",
   "metadata": {},
   "outputs": [
    {
     "data": {
      "text/plain": [
       "array([[ 8.94427191, 10.34408043, 11.83215957, 13.37908816],\n",
       "       [28.28427125, 29.9833287 , 31.68595904, 33.39161571]])"
      ]
     },
     "execution_count": 43,
     "metadata": {},
     "output_type": "execute_result"
    }
   ],
   "source": [
    "linalg.norm(X, axis=1)  # Compute the norm along the second axis"
   ]
  },
  {
   "cell_type": "code",
   "execution_count": 44,
   "id": "fe7b4b92",
   "metadata": {},
   "outputs": [
    {
     "data": {
      "text/plain": [
       "array([[ 3.74165739, 11.22497216, 19.13112647],\n",
       "       [27.09243437, 35.07135583, 43.05810028]])"
      ]
     },
     "execution_count": 44,
     "metadata": {},
     "output_type": "execute_result"
    }
   ],
   "source": [
    "linalg.norm(X, axis=2)  # Compute the norm along the third axis"
   ]
  },
  {
   "cell_type": "code",
   "execution_count": 46,
   "id": "3c65f419",
   "metadata": {},
   "outputs": [],
   "source": [
    "# 10\n",
    "A = torch.randn((2**10, 2**16))\n",
    "B = torch.randn((2**16, 2**5))\n",
    "C = torch.randn((2**5, 2**14))"
   ]
  },
  {
   "cell_type": "code",
   "execution_count": 49,
   "id": "54d6397c",
   "metadata": {},
   "outputs": [
    {
     "data": {
      "text/plain": [
       "tensor([[ 1998.8823,  -337.1237,  -812.2938,  ..., -1251.2198,  1627.0067,\n",
       "         -1508.1763],\n",
       "        [-1052.0015,  -286.5263,  1418.5066,  ...,  1864.1572,  2282.9702,\n",
       "          -222.4520],\n",
       "        [  864.7156,   811.2568,  -674.6117,  ..., -1961.9290, -1579.4138,\n",
       "           -65.4369],\n",
       "        ...,\n",
       "        [ -797.4426, -2814.7729,    84.2910,  ...,  -323.3568, -1006.3843,\n",
       "         -1078.2936],\n",
       "        [ -711.3341,  1191.8881,  -770.9439,  ..., -1542.2427,  2037.1470,\n",
       "         -1648.8812],\n",
       "        [-1423.3683, -3053.0442,   927.0954,  ..., -1068.8671,   562.8793,\n",
       "          -286.9958]])"
      ]
     },
     "execution_count": 49,
     "metadata": {},
     "output_type": "execute_result"
    }
   ],
   "source": [
    "torch.mm(torch.mm(A, B), C)"
   ]
  },
  {
   "cell_type": "code",
   "execution_count": 50,
   "id": "7afa69f8",
   "metadata": {},
   "outputs": [
    {
     "data": {
      "text/plain": [
       "tensor([[ 1998.8813,  -337.1234,  -812.2936,  ..., -1251.2208,  1627.0077,\n",
       "         -1508.1749],\n",
       "        [-1052.0012,  -286.5269,  1418.5071,  ...,  1864.1575,  2282.9712,\n",
       "          -222.4508],\n",
       "        [  864.7160,   811.2565,  -674.6111,  ..., -1961.9288, -1579.4143,\n",
       "           -65.4363],\n",
       "        ...,\n",
       "        [ -797.4427, -2814.7725,    84.2907,  ...,  -323.3565, -1006.3837,\n",
       "         -1078.2932],\n",
       "        [ -711.3337,  1191.8887,  -770.9433,  ..., -1542.2432,  2037.1465,\n",
       "         -1648.8818],\n",
       "        [-1423.3674, -3053.0437,   927.0951,  ..., -1068.8662,   562.8802,\n",
       "          -286.9976]])"
      ]
     },
     "execution_count": 50,
     "metadata": {},
     "output_type": "execute_result"
    }
   ],
   "source": [
    "torch.mm(A, torch.mm(B, C))"
   ]
  },
  {
   "cell_type": "code",
   "execution_count": null,
   "id": "6009131d",
   "metadata": {},
   "outputs": [],
   "source": [
    "# difference in memory footprint?"
   ]
  },
  {
   "cell_type": "code",
   "execution_count": 51,
   "id": "b5d69e66",
   "metadata": {},
   "outputs": [],
   "source": [
    "# 11\n",
    "A = torch.randn((2**10, 2**16))\n",
    "B = torch.randn((2**16, 2**5))\n",
    "C = torch.randn((2**5, 2**16))"
   ]
  },
  {
   "cell_type": "code",
   "execution_count": 52,
   "id": "82f989fc",
   "metadata": {},
   "outputs": [
    {
     "data": {
      "text/plain": [
       "tensor([[-271.7728, -112.8768,   40.8153,  ...,   43.4248, -184.4579,\n",
       "         -314.0730],\n",
       "        [ 278.2987, -115.7160,  220.3426,  ...,  175.8753,  188.2533,\n",
       "          -61.2932],\n",
       "        [ -53.4759,  272.7431,  -59.5937,  ...,   44.6255,  151.5520,\n",
       "          259.3879],\n",
       "        ...,\n",
       "        [ 124.0121, -381.5967,   21.1493,  ...,  478.5606, -186.3619,\n",
       "         -310.1042],\n",
       "        [-152.6959,  148.3256, -155.4439,  ...,  356.5699,   21.2725,\n",
       "         -114.9664],\n",
       "        [ -68.9394,   12.1427, -142.6776,  ...,  314.1106,  -35.8469,\n",
       "         -190.9957]])"
      ]
     },
     "execution_count": 52,
     "metadata": {},
     "output_type": "execute_result"
    }
   ],
   "source": [
    "torch.mm(A, B)"
   ]
  },
  {
   "cell_type": "code",
   "execution_count": 54,
   "id": "2d59e74d",
   "metadata": {},
   "outputs": [
    {
     "data": {
      "text/plain": [
       "tensor([[-1.2473e+02,  6.7610e+01,  1.0417e+02,  ...,  3.2096e+02,\n",
       "         -1.9951e+00,  6.7785e+02],\n",
       "        [ 4.1192e+02,  3.1947e+02, -3.4726e+02,  ...,  2.0738e+02,\n",
       "          1.1938e+02, -1.4925e+02],\n",
       "        [-2.0653e+02,  1.6729e+02,  2.0572e+01,  ...,  3.0411e+02,\n",
       "          4.4812e+02,  8.5356e+01],\n",
       "        ...,\n",
       "        [ 5.2164e-01, -1.1115e+02,  4.0622e+02,  ..., -4.3674e+01,\n",
       "          2.5022e+02, -7.2693e+01],\n",
       "        [ 1.5856e+02,  4.7398e+02, -2.6726e+02,  ..., -7.6510e+01,\n",
       "         -9.5807e+00, -2.1205e+02],\n",
       "        [-1.1633e+02,  3.8278e+01, -2.4426e+02,  ...,  3.7907e+02,\n",
       "          1.5720e+02,  2.4894e+02]])"
      ]
     },
     "execution_count": 54,
     "metadata": {},
     "output_type": "execute_result"
    }
   ],
   "source": [
    "torch.mm(A, C.T)"
   ]
  },
  {
   "cell_type": "code",
   "execution_count": 55,
   "id": "3af76df3",
   "metadata": {},
   "outputs": [
    {
     "name": "stdout",
     "output_type": "stream",
     "text": [
      "before: 2873855855808\n",
      "after: 2874524534160\n"
     ]
    }
   ],
   "source": [
    "before = id(C)\n",
    "C = B.T\n",
    "after = id(C)\n",
    "print('before:', before)\n",
    "print('after:', after)"
   ]
  },
  {
   "cell_type": "code",
   "execution_count": 64,
   "id": "c6f58650",
   "metadata": {},
   "outputs": [],
   "source": [
    "# 12\n",
    "# Creating a tensor with extremely large dimensions will cause an error.\n",
    "A = torch.randn((2**10, 2**12))\n",
    "B = A.clone()\n",
    "C = A.clone()"
   ]
  },
  {
   "cell_type": "code",
   "execution_count": 67,
   "id": "eb27e8f3",
   "metadata": {},
   "outputs": [
    {
     "data": {
      "text/plain": [
       "torch.Size([3072, 4096])"
      ]
     },
     "execution_count": 67,
     "metadata": {},
     "output_type": "execute_result"
    }
   ],
   "source": [
    "D = torch.concat((A, B, C))\n",
    "D.shape"
   ]
  },
  {
   "cell_type": "code",
   "execution_count": 69,
   "id": "6e04df5a",
   "metadata": {},
   "outputs": [
    {
     "data": {
      "text/plain": [
       "torch.Size([1024, 12288])"
      ]
     },
     "execution_count": 69,
     "metadata": {},
     "output_type": "execute_result"
    }
   ],
   "source": [
    "D = torch.concat((A, B, C), axis=1)\n",
    "D.shape"
   ]
  },
  {
   "cell_type": "code",
   "execution_count": 70,
   "id": "1dfdf3a7",
   "metadata": {},
   "outputs": [
    {
     "data": {
      "text/plain": [
       "torch.Size([3, 1024, 4096])"
      ]
     },
     "execution_count": 70,
     "metadata": {},
     "output_type": "execute_result"
    }
   ],
   "source": [
    "D = torch.stack((A, B, C))\n",
    "D.shape"
   ]
  },
  {
   "cell_type": "code",
   "execution_count": 71,
   "id": "b7c23e7a",
   "metadata": {},
   "outputs": [
    {
     "data": {
      "text/plain": [
       "tensor([[True, True, True,  ..., True, True, True],\n",
       "        [True, True, True,  ..., True, True, True],\n",
       "        [True, True, True,  ..., True, True, True],\n",
       "        ...,\n",
       "        [True, True, True,  ..., True, True, True],\n",
       "        [True, True, True,  ..., True, True, True],\n",
       "        [True, True, True,  ..., True, True, True]])"
      ]
     },
     "execution_count": 71,
     "metadata": {},
     "output_type": "execute_result"
    }
   ],
   "source": [
    "D[1,:,:] == B"
   ]
  }
 ],
 "metadata": {
  "kernelspec": {
   "display_name": "d2l",
   "language": "python",
   "name": "python3"
  },
  "language_info": {
   "codemirror_mode": {
    "name": "ipython",
    "version": 3
   },
   "file_extension": ".py",
   "mimetype": "text/x-python",
   "name": "python",
   "nbconvert_exporter": "python",
   "pygments_lexer": "ipython3",
   "version": "3.9.23"
  }
 },
 "nbformat": 4,
 "nbformat_minor": 5
}
