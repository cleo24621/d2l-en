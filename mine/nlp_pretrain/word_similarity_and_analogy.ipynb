{
 "cells": [
  {
   "cell_type": "code",
   "id": "initial_id",
   "metadata": {
    "collapsed": true,
    "ExecuteTime": {
     "end_time": "2025-09-07T15:17:30.371403Z",
     "start_time": "2025-09-07T15:17:20.791806Z"
    }
   },
   "source": [
    "import os\n",
    "import torch\n",
    "from torch import nn\n",
    "from d2l import torch as d2l"
   ],
   "outputs": [],
   "execution_count": 1
  },
  {
   "metadata": {},
   "cell_type": "markdown",
   "source": "# 15.7.1. Loading Pretrained Word Vectors",
   "id": "7bdbaf6e55a45cfd"
  },
  {
   "metadata": {
    "ExecuteTime": {
     "end_time": "2025-09-07T15:17:56.014443Z",
     "start_time": "2025-09-07T15:17:56.005400Z"
    }
   },
   "cell_type": "code",
   "source": [
    "#@save\n",
    "d2l.DATA_HUB['glove.6b.50d'] = (d2l.DATA_URL + 'glove.6B.50d.zip',\n",
    "                                '0b8703943ccdb6eb788e6f091b8946e82231bc4d')\n",
    "\n",
    "#@save\n",
    "d2l.DATA_HUB['glove.6b.100d'] = (d2l.DATA_URL + 'glove.6B.100d.zip',\n",
    "                                 'cd43bfb07e44e6f27cbcc7bc9ae3d80284fdaf5a')\n",
    "\n",
    "#@save\n",
    "d2l.DATA_HUB['glove.42b.300d'] = (d2l.DATA_URL + 'glove.42B.300d.zip',\n",
    "                                  'b5116e234e9eb9076672cfeabf5469f3eec904fa')\n",
    "\n",
    "#@save\n",
    "d2l.DATA_HUB['wiki.en'] = (d2l.DATA_URL + 'wiki.en.zip',\n",
    "                           'c1816da3821ae9f43899be655002f6c723e91b88')"
   ],
   "id": "1af78d2ce7ae3364",
   "outputs": [],
   "execution_count": 2
  },
  {
   "metadata": {
    "ExecuteTime": {
     "end_time": "2025-09-07T15:21:58.418372Z",
     "start_time": "2025-09-07T15:21:58.399361Z"
    }
   },
   "cell_type": "code",
   "source": [
    "#@save\n",
    "class TokenEmbedding:\n",
    "    \"\"\"Token Embedding.\"\"\"\n",
    "    def __init__(self, embedding_name):\n",
    "        self.idx_to_token, self.idx_to_vec = self._load_embedding(\n",
    "            embedding_name)\n",
    "        self.unknown_idx = 0\n",
    "        self.token_to_idx = {token: idx for idx, token in\n",
    "                             enumerate(self.idx_to_token)}\n",
    "\n",
    "    def _load_embedding(self, embedding_name):\n",
    "        idx_to_token, idx_to_vec = ['<unk>'], []\n",
    "        data_dir = d2l.download_extract(embedding_name)\n",
    "        # GloVe website: https://nlp.stanford.edu/projects/glove/\n",
    "        # fastText website: https://fasttext.cc/\n",
    "        with open(os.path.join(data_dir, 'vec.txt'), 'r', encoding='utf-8') as f:\n",
    "            for line in f:\n",
    "                elems = line.rstrip().split(' ')\n",
    "                token, elems = elems[0], [float(elem) for elem in elems[1:]]\n",
    "                # Skip header information, such as the top row in fastText\n",
    "                if len(elems) > 1:\n",
    "                    idx_to_token.append(token)\n",
    "                    idx_to_vec.append(elems)\n",
    "        idx_to_vec = [[0] * len(idx_to_vec[0])] + idx_to_vec\n",
    "        return idx_to_token, torch.tensor(idx_to_vec)\n",
    "\n",
    "    def __getitem__(self, tokens):\n",
    "        indices = [self.token_to_idx.get(token, self.unknown_idx)\n",
    "                   for token in tokens]\n",
    "        vecs = self.idx_to_vec[torch.tensor(indices)]\n",
    "        return vecs\n",
    "\n",
    "    def __len__(self):\n",
    "        return len(self.idx_to_token)"
   ],
   "id": "412f097ea35f463",
   "outputs": [],
   "execution_count": 5
  },
  {
   "metadata": {
    "ExecuteTime": {
     "end_time": "2025-09-07T15:22:08.169851Z",
     "start_time": "2025-09-07T15:22:00.850267Z"
    }
   },
   "cell_type": "code",
   "source": "glove_6b50d = TokenEmbedding('glove.6b.50d')",
   "id": "778eedbbebd05315",
   "outputs": [],
   "execution_count": 6
  },
  {
   "metadata": {
    "ExecuteTime": {
     "end_time": "2025-09-07T15:22:16.373805Z",
     "start_time": "2025-09-07T15:22:16.366908Z"
    }
   },
   "cell_type": "code",
   "source": "len(glove_6b50d)",
   "id": "29feac2bc2a0d373",
   "outputs": [
    {
     "data": {
      "text/plain": [
       "400001"
      ]
     },
     "execution_count": 7,
     "metadata": {},
     "output_type": "execute_result"
    }
   ],
   "execution_count": 7
  },
  {
   "metadata": {
    "ExecuteTime": {
     "end_time": "2025-09-07T15:22:37.622741Z",
     "start_time": "2025-09-07T15:22:37.611731Z"
    }
   },
   "cell_type": "code",
   "source": "glove_6b50d.token_to_idx['beautiful'], glove_6b50d.idx_to_token[3367]",
   "id": "f5dcb8777fe8dea9",
   "outputs": [
    {
     "data": {
      "text/plain": [
       "(3367, 'beautiful')"
      ]
     },
     "execution_count": 8,
     "metadata": {},
     "output_type": "execute_result"
    }
   ],
   "execution_count": 8
  },
  {
   "metadata": {},
   "cell_type": "markdown",
   "source": "# 15.7.2. Applying Pretrained Word Vectors",
   "id": "3d608a1c9cd347e3"
  },
  {
   "metadata": {},
   "cell_type": "markdown",
   "source": "## 15.7.2.1. Word Similarity",
   "id": "a1dcd9d80e8c9524"
  },
  {
   "metadata": {
    "ExecuteTime": {
     "end_time": "2025-09-07T15:23:19.345024Z",
     "start_time": "2025-09-07T15:23:19.333022Z"
    }
   },
   "cell_type": "code",
   "source": [
    "def knn(W, x, k):\n",
    "    # Add 1e-9 for numerical stability\n",
    "    cos = torch.mv(W, x.reshape(-1,)) / (\n",
    "        torch.sqrt(torch.sum(W * W, axis=1) + 1e-9) *\n",
    "        torch.sqrt((x * x).sum()))\n",
    "    _, topk = torch.topk(cos, k=k)\n",
    "    return topk, [cos[int(i)] for i in topk]"
   ],
   "id": "529118318f3f1d99",
   "outputs": [],
   "execution_count": 9
  },
  {
   "metadata": {
    "ExecuteTime": {
     "end_time": "2025-09-07T15:23:31.082726Z",
     "start_time": "2025-09-07T15:23:31.070724Z"
    }
   },
   "cell_type": "code",
   "source": [
    "def get_similar_tokens(query_token, k, embed):\n",
    "    topk, cos = knn(embed.idx_to_vec, embed[[query_token]], k + 1)\n",
    "    for i, c in zip(topk[1:], cos[1:]):  # Exclude the input word\n",
    "        print(f'cosine sim={float(c):.3f}: {embed.idx_to_token[int(i)]}')"
   ],
   "id": "2993a16be954a5b7",
   "outputs": [],
   "execution_count": 10
  },
  {
   "metadata": {
    "ExecuteTime": {
     "end_time": "2025-09-07T15:24:02.935111Z",
     "start_time": "2025-09-07T15:24:02.796064Z"
    }
   },
   "cell_type": "code",
   "source": "get_similar_tokens('chip', 3, glove_6b50d)",
   "id": "d8828a9cd5859004",
   "outputs": [
    {
     "name": "stdout",
     "output_type": "stream",
     "text": [
      "cosine sim=0.856: chips\n",
      "cosine sim=0.749: intel\n",
      "cosine sim=0.749: electronics\n"
     ]
    }
   ],
   "execution_count": 11
  },
  {
   "metadata": {
    "ExecuteTime": {
     "end_time": "2025-09-07T15:24:16.774515Z",
     "start_time": "2025-09-07T15:24:16.728999Z"
    }
   },
   "cell_type": "code",
   "source": "get_similar_tokens('baby', 3, glove_6b50d)",
   "id": "7114037e45cc3cf5",
   "outputs": [
    {
     "name": "stdout",
     "output_type": "stream",
     "text": [
      "cosine sim=0.839: babies\n",
      "cosine sim=0.800: boy\n",
      "cosine sim=0.792: girl\n"
     ]
    }
   ],
   "execution_count": 12
  },
  {
   "metadata": {
    "ExecuteTime": {
     "end_time": "2025-09-07T15:24:23.122886Z",
     "start_time": "2025-09-07T15:24:23.089746Z"
    }
   },
   "cell_type": "code",
   "source": "get_similar_tokens('beautiful', 3, glove_6b50d)",
   "id": "e26ff3d3244e4386",
   "outputs": [
    {
     "name": "stdout",
     "output_type": "stream",
     "text": [
      "cosine sim=0.921: lovely\n",
      "cosine sim=0.893: gorgeous\n",
      "cosine sim=0.830: wonderful\n"
     ]
    }
   ],
   "execution_count": 13
  },
  {
   "metadata": {},
   "cell_type": "markdown",
   "source": "## 15.7.2.2. Word Analogy",
   "id": "82f0932c89b31dab"
  },
  {
   "metadata": {
    "ExecuteTime": {
     "end_time": "2025-09-07T15:26:00.376460Z",
     "start_time": "2025-09-07T15:26:00.362460Z"
    }
   },
   "cell_type": "code",
   "source": [
    "def get_analogy(token_a, token_b, token_c, embed):\n",
    "    vecs = embed[[token_a, token_b, token_c]]\n",
    "    x = vecs[1] - vecs[0] + vecs[2]\n",
    "    topk, cos = knn(embed.idx_to_vec, x, 1)\n",
    "    return embed.idx_to_token[int(topk[0])]  # Remove unknown words"
   ],
   "id": "86bbb988c7293bcb",
   "outputs": [],
   "execution_count": 14
  },
  {
   "metadata": {
    "ExecuteTime": {
     "end_time": "2025-09-07T15:26:12.980698Z",
     "start_time": "2025-09-07T15:26:12.920178Z"
    }
   },
   "cell_type": "code",
   "source": "get_analogy('man', 'woman', 'son', glove_6b50d)",
   "id": "6ab1f32478108dc7",
   "outputs": [
    {
     "data": {
      "text/plain": [
       "'daughter'"
      ]
     },
     "execution_count": 15,
     "metadata": {},
     "output_type": "execute_result"
    }
   ],
   "execution_count": 15
  },
  {
   "metadata": {
    "ExecuteTime": {
     "end_time": "2025-09-07T15:26:27.711405Z",
     "start_time": "2025-09-07T15:26:27.666877Z"
    }
   },
   "cell_type": "code",
   "source": "get_analogy('beijing', 'china', 'tokyo', glove_6b50d)",
   "id": "53fdd1ab08d7195b",
   "outputs": [
    {
     "data": {
      "text/plain": [
       "'japan'"
      ]
     },
     "execution_count": 16,
     "metadata": {},
     "output_type": "execute_result"
    }
   ],
   "execution_count": 16
  },
  {
   "metadata": {
    "ExecuteTime": {
     "end_time": "2025-09-07T15:26:48.532570Z",
     "start_time": "2025-09-07T15:26:48.503103Z"
    }
   },
   "cell_type": "code",
   "source": "get_analogy('bad', 'worst', 'big', glove_6b50d)",
   "id": "b6ea4e1d19b62744",
   "outputs": [
    {
     "data": {
      "text/plain": [
       "'biggest'"
      ]
     },
     "execution_count": 17,
     "metadata": {},
     "output_type": "execute_result"
    }
   ],
   "execution_count": 17
  },
  {
   "metadata": {
    "ExecuteTime": {
     "end_time": "2025-09-07T15:27:12.974201Z",
     "start_time": "2025-09-07T15:27:12.921199Z"
    }
   },
   "cell_type": "code",
   "source": "get_analogy('do', 'did', 'go', glove_6b50d)",
   "id": "a6bf57c507dadc98",
   "outputs": [
    {
     "data": {
      "text/plain": [
       "'went'"
      ]
     },
     "execution_count": 18,
     "metadata": {},
     "output_type": "execute_result"
    }
   ],
   "execution_count": 18
  }
 ],
 "metadata": {
  "kernelspec": {
   "display_name": "Python 3",
   "language": "python",
   "name": "python3"
  },
  "language_info": {
   "codemirror_mode": {
    "name": "ipython",
    "version": 2
   },
   "file_extension": ".py",
   "mimetype": "text/x-python",
   "name": "python",
   "nbconvert_exporter": "python",
   "pygments_lexer": "ipython2",
   "version": "2.7.6"
  }
 },
 "nbformat": 4,
 "nbformat_minor": 5
}
