{
 "cells": [
  {
   "metadata": {},
   "cell_type": "markdown",
   "source": "# 14.8.2. Fast R-CNN",
   "id": "2bef3a22c1770c04"
  },
  {
   "cell_type": "code",
   "id": "initial_id",
   "metadata": {
    "collapsed": true,
    "ExecuteTime": {
     "end_time": "2025-09-02T13:15:51.047794Z",
     "start_time": "2025-09-02T13:15:46.700610Z"
    }
   },
   "source": [
    "import torch\n",
    "import torchvision\n",
    "\n",
    "X = torch.arange(16.).reshape(1, 1, 4, 4)\n",
    "X"
   ],
   "outputs": [
    {
     "data": {
      "text/plain": [
       "tensor([[[[ 0.,  1.,  2.,  3.],\n",
       "          [ 4.,  5.,  6.,  7.],\n",
       "          [ 8.,  9., 10., 11.],\n",
       "          [12., 13., 14., 15.]]]])"
      ]
     },
     "execution_count": 1,
     "metadata": {},
     "output_type": "execute_result"
    }
   ],
   "execution_count": 1
  },
  {
   "metadata": {
    "ExecuteTime": {
     "end_time": "2025-09-02T13:16:55.165558Z",
     "start_time": "2025-09-02T13:16:55.148968Z"
    }
   },
   "cell_type": "code",
   "source": "rois = torch.Tensor([[0, 0, 0, 20, 20], [0, 0, 10, 30, 30]])",
   "id": "1baebdda1e52312e",
   "outputs": [],
   "execution_count": 2
  },
  {
   "metadata": {
    "ExecuteTime": {
     "end_time": "2025-09-02T13:19:20.533693Z",
     "start_time": "2025-09-02T13:19:20.512511Z"
    }
   },
   "cell_type": "code",
   "source": "torchvision.ops.roi_pool(X, rois, output_size=(2, 2), spatial_scale=0.1)",
   "id": "4f67b3e19188fd3",
   "outputs": [
    {
     "data": {
      "text/plain": [
       "tensor([[[[ 5.,  6.],\n",
       "          [ 9., 10.]]],\n",
       "\n",
       "\n",
       "        [[[ 9., 11.],\n",
       "          [13., 15.]]]])"
      ]
     },
     "execution_count": 3,
     "metadata": {},
     "output_type": "execute_result"
    }
   ],
   "execution_count": 3
  }
 ],
 "metadata": {
  "kernelspec": {
   "display_name": "Python 3",
   "language": "python",
   "name": "python3"
  },
  "language_info": {
   "codemirror_mode": {
    "name": "ipython",
    "version": 2
   },
   "file_extension": ".py",
   "mimetype": "text/x-python",
   "name": "python",
   "nbconvert_exporter": "python",
   "pygments_lexer": "ipython2",
   "version": "2.7.6"
  }
 },
 "nbformat": 4,
 "nbformat_minor": 5
}
