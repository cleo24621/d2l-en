{
 "cells": [
  {
   "cell_type": "code",
   "execution_count": 1,
   "id": "df643247",
   "metadata": {},
   "outputs": [],
   "source": [
    "import torch\n",
    "from torch import nn"
   ]
  },
  {
   "cell_type": "code",
   "execution_count": 2,
   "id": "43d8d6f7",
   "metadata": {},
   "outputs": [
    {
     "name": "stderr",
     "output_type": "stream",
     "text": [
      "d:\\_Software\\miniconda3\\envs\\d2l\\lib\\site-packages\\torch\\nn\\modules\\lazy.py:180: UserWarning: Lazy modules are a new feature under heavy development so changes to the API or functionality can happen at any moment.\n",
      "  warnings.warn('Lazy modules are a new feature under heavy development '\n"
     ]
    },
    {
     "data": {
      "text/plain": [
       "torch.Size([2, 1])"
      ]
     },
     "execution_count": 2,
     "metadata": {},
     "output_type": "execute_result"
    }
   ],
   "source": [
    "net = nn.Sequential(nn.LazyLinear(8), nn.ReLU(), nn.LazyLinear(1))\n",
    "X = torch.rand(size=(2, 4))\n",
    "net(X).shape"
   ]
  },
  {
   "cell_type": "markdown",
   "id": "251de00c",
   "metadata": {},
   "source": [
    "# 6.3.1. Built-in Initialization"
   ]
  },
  {
   "cell_type": "code",
   "execution_count": 3,
   "id": "e9cb5aee",
   "metadata": {},
   "outputs": [
    {
     "data": {
      "text/plain": [
       "(tensor([-0.0120,  0.0071,  0.0049, -0.0040]), tensor(0.))"
      ]
     },
     "execution_count": 3,
     "metadata": {},
     "output_type": "execute_result"
    }
   ],
   "source": [
    "def init_normal(module):\n",
    "    if type(module) == nn.Linear:\n",
    "        nn.init.normal_(module.weight, mean=0, std=0.01)\n",
    "        nn.init.zeros_(module.bias)\n",
    "\n",
    "net.apply(init_normal)\n",
    "net[0].weight.data[0], net[0].bias.data[0]"
   ]
  },
  {
   "cell_type": "code",
   "execution_count": 4,
   "id": "e81d5128",
   "metadata": {},
   "outputs": [
    {
     "data": {
      "text/plain": [
       "(tensor([1., 1., 1., 1.]), tensor(0.))"
      ]
     },
     "execution_count": 4,
     "metadata": {},
     "output_type": "execute_result"
    }
   ],
   "source": [
    "def init_constant(module):\n",
    "    if type(module) == nn.Linear:\n",
    "        nn.init.constant_(module.weight, 1)\n",
    "        nn.init.zeros_(module.bias)\n",
    "\n",
    "net.apply(init_constant)\n",
    "net[0].weight.data[0], net[0].bias.data[0]"
   ]
  },
  {
   "cell_type": "code",
   "execution_count": 5,
   "id": "a1606a28",
   "metadata": {},
   "outputs": [
    {
     "name": "stdout",
     "output_type": "stream",
     "text": [
      "tensor([ 0.1828,  0.1586, -0.4040, -0.4338])\n",
      "tensor([42., 42., 42., 42., 42., 42., 42., 42.])\n"
     ]
    }
   ],
   "source": [
    "def init_xavier(module):\n",
    "    if type(module) == nn.Linear:\n",
    "        nn.init.xavier_uniform_(module.weight)\n",
    "\n",
    "def init_42(module):\n",
    "    if type(module) == nn.Linear:\n",
    "        nn.init.constant_(module.weight, 42)\n",
    "\n",
    "net[0].apply(init_xavier)\n",
    "net[2].apply(init_42)\n",
    "print(net[0].weight.data[0])\n",
    "print(net[2].weight.data[0])"
   ]
  },
  {
   "cell_type": "markdown",
   "id": "c5ba781a",
   "metadata": {},
   "source": [
    "# 6.3.1.1. Custom Initialization"
   ]
  },
  {
   "cell_type": "code",
   "execution_count": 6,
   "id": "5656e833",
   "metadata": {},
   "outputs": [
    {
     "name": "stdout",
     "output_type": "stream",
     "text": [
      "Init weight Parameter containing:\n",
      "tensor([[ 0.1828,  0.1586, -0.4040, -0.4338],\n",
      "        [ 0.6289, -0.2841,  0.0749,  0.1344],\n",
      "        [-0.2147, -0.1357, -0.4925,  0.3307],\n",
      "        [ 0.3571, -0.4535,  0.0080,  0.2013],\n",
      "        [ 0.0601, -0.5887,  0.0063,  0.1932],\n",
      "        [ 0.2966,  0.3536, -0.1678, -0.5390],\n",
      "        [ 0.2883, -0.6859, -0.5471, -0.3631],\n",
      "        [ 0.6301,  0.0031, -0.4234,  0.2842]], requires_grad=True)\n",
      "Init weight Parameter containing:\n",
      "tensor([[42., 42., 42., 42., 42., 42., 42., 42.]], requires_grad=True)\n"
     ]
    },
    {
     "data": {
      "text/plain": [
       "tensor([[ 5.6342,  9.4741, -0.0000,  0.0000],\n",
       "        [-5.8484, -0.0000,  8.1051, -0.0000]], grad_fn=<SliceBackward0>)"
      ]
     },
     "execution_count": 6,
     "metadata": {},
     "output_type": "execute_result"
    }
   ],
   "source": [
    "def my_init(module):\n",
    "    if type(module) == nn.Linear:\n",
    "        print(\"Init\", *[(name, param) for name, param in module.named_parameters()][0])\n",
    "        nn.init.uniform_(module.weight, -10, 10)\n",
    "        module.weight.data *= module.weight.data.abs() >= 5\n",
    "\n",
    "\n",
    "net.apply(my_init)\n",
    "net[0].weight[:2]"
   ]
  },
  {
   "cell_type": "code",
   "execution_count": 7,
   "id": "e076cfbe",
   "metadata": {},
   "outputs": [
    {
     "name": "stdout",
     "output_type": "stream",
     "text": [
      "tensor([[ 5.6342,  9.4741, -0.0000,  0.0000],\n",
      "        [-5.8484, -0.0000,  8.1051, -0.0000],\n",
      "        [-0.0000, -5.9879,  6.5829,  7.1877],\n",
      "        [ 0.0000, -6.9106,  0.0000, -0.0000],\n",
      "        [ 9.1797,  0.0000, -9.5172,  7.6742],\n",
      "        [-0.0000, -0.0000,  6.2690,  0.0000],\n",
      "        [ 5.9203,  5.7909, -0.0000, -0.0000],\n",
      "        [-6.3098, -0.0000,  9.5610,  9.9933]])\n"
     ]
    },
    {
     "data": {
      "text/plain": [
       "tensor([42.0000, 10.4741,  1.0000,  1.0000])"
      ]
     },
     "execution_count": 7,
     "metadata": {},
     "output_type": "execute_result"
    }
   ],
   "source": [
    "print(net[0].weight.data)\n",
    "net[0].weight.data[:] += 1\n",
    "net[0].weight.data[0, 0] = 42\n",
    "net[0].weight.data[0]"
   ]
  }
 ],
 "metadata": {
  "kernelspec": {
   "display_name": "d2l",
   "language": "python",
   "name": "python3"
  },
  "language_info": {
   "codemirror_mode": {
    "name": "ipython",
    "version": 3
   },
   "file_extension": ".py",
   "mimetype": "text/x-python",
   "name": "python",
   "nbconvert_exporter": "python",
   "pygments_lexer": "ipython3",
   "version": "3.9.23"
  }
 },
 "nbformat": 4,
 "nbformat_minor": 5
}
